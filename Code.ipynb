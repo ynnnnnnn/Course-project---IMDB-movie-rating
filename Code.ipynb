{
 "cells": [
  {
   "cell_type": "markdown",
   "metadata": {},
   "source": [
    "# Course project - IMDB movie rating\n",
    "\n",
    "## ZHAO,Yanan 20671764\n",
    "\n",
    "github link:  https://github.com/ynnnnnnn/Course-project---IMDB-movie-rating.git"
   ]
  },
  {
   "cell_type": "markdown",
   "metadata": {},
   "source": [
    "# 1. Data Management"
   ]
  },
  {
   "cell_type": "markdown",
   "metadata": {},
   "source": [
    "## 1.1 Unzip and Merge dataset"
   ]
  },
  {
   "cell_type": "code",
   "execution_count": 32,
   "metadata": {},
   "outputs": [],
   "source": [
    "import tarfile\n",
    "import os\n",
    "def untar(fname, dirs):\n",
    "    t = tarfile.open(fname)\n",
    "    t.extractall(path = dirs) \n",
    "\n",
    "if __name__ == \"__main__\":\n",
    "    untar(\"aclImdb_v1.tar.gz\", \".\")"
   ]
  },
  {
   "cell_type": "code",
   "execution_count": 33,
   "metadata": {
    "scrolled": true
   },
   "outputs": [
    {
     "name": "stderr",
     "output_type": "stream",
     "text": [
      "0% [##############################] 100% | ETA: 00:00:00\n",
      "Total time elapsed: 00:08:12\n"
     ]
    }
   ],
   "source": [
    "import pyprind\n",
    "import pandas as pd\n",
    "import os\n",
    "pbar=pyprind.ProgBar(50000)\n",
    "labels={'pos':1,'neg':0}\n",
    "labeldataset={'test':'test','train':'train'}\n",
    "df=pd.DataFrame()\n",
    "for s in ('test','train'):\n",
    "    for l in ('pos','neg'):\n",
    "        path='./aclImdb/%s/%s'% (s,l)\n",
    "        for file in os.listdir(path):\n",
    "            with open(os.path.join(path,file),'r') as infile:\n",
    "                txt=infile.read()\n",
    "            df=df.append([[txt,labels[l],labeldataset[s]]],ignore_index=True)\n",
    "            pbar.update()\n",
    "df.columns=['review','sentiment','dataset']"
   ]
  },
  {
   "cell_type": "code",
   "execution_count": 34,
   "metadata": {},
   "outputs": [],
   "source": [
    "df.to_csv('./movie_data.csv',index=False)"
   ]
  },
  {
   "cell_type": "code",
   "execution_count": 35,
   "metadata": {},
   "outputs": [
    {
     "data": {
      "text/html": [
       "<div>\n",
       "<style scoped>\n",
       "    .dataframe tbody tr th:only-of-type {\n",
       "        vertical-align: middle;\n",
       "    }\n",
       "\n",
       "    .dataframe tbody tr th {\n",
       "        vertical-align: top;\n",
       "    }\n",
       "\n",
       "    .dataframe thead th {\n",
       "        text-align: right;\n",
       "    }\n",
       "</style>\n",
       "<table border=\"1\" class=\"dataframe\">\n",
       "  <thead>\n",
       "    <tr style=\"text-align: right;\">\n",
       "      <th></th>\n",
       "      <th>review</th>\n",
       "      <th>sentiment</th>\n",
       "      <th>dataset</th>\n",
       "    </tr>\n",
       "  </thead>\n",
       "  <tbody>\n",
       "    <tr>\n",
       "      <th>0</th>\n",
       "      <td>Based on an actual story, John Boorman shows t...</td>\n",
       "      <td>1</td>\n",
       "      <td>test</td>\n",
       "    </tr>\n",
       "    <tr>\n",
       "      <th>1</th>\n",
       "      <td>This is a gem. As a Film Four production - the...</td>\n",
       "      <td>1</td>\n",
       "      <td>test</td>\n",
       "    </tr>\n",
       "    <tr>\n",
       "      <th>2</th>\n",
       "      <td>I really like this show. It has drama, romance...</td>\n",
       "      <td>1</td>\n",
       "      <td>test</td>\n",
       "    </tr>\n",
       "    <tr>\n",
       "      <th>3</th>\n",
       "      <td>This is the best 3-D experience Disney has at ...</td>\n",
       "      <td>1</td>\n",
       "      <td>test</td>\n",
       "    </tr>\n",
       "  </tbody>\n",
       "</table>\n",
       "</div>"
      ],
      "text/plain": [
       "                                              review  sentiment dataset\n",
       "0  Based on an actual story, John Boorman shows t...          1    test\n",
       "1  This is a gem. As a Film Four production - the...          1    test\n",
       "2  I really like this show. It has drama, romance...          1    test\n",
       "3  This is the best 3-D experience Disney has at ...          1    test"
      ]
     },
     "execution_count": 35,
     "metadata": {},
     "output_type": "execute_result"
    }
   ],
   "source": [
    "df=pd.read_csv('./movie_data.csv')\n",
    "df.head(4)"
   ]
  },
  {
   "cell_type": "code",
   "execution_count": 36,
   "metadata": {},
   "outputs": [],
   "source": [
    "train = df.loc[df['dataset'].isin(['train'])]"
   ]
  },
  {
   "cell_type": "code",
   "execution_count": 37,
   "metadata": {},
   "outputs": [],
   "source": [
    "test = df.loc[df['dataset'].isin(['test'])]"
   ]
  },
  {
   "cell_type": "code",
   "execution_count": 38,
   "metadata": {},
   "outputs": [],
   "source": [
    "train.to_csv('./train_dataset.csv',index=False)\n",
    "test.to_csv('./test_dataset.csv',index=False)\n",
    "train=pd.read_csv('./train_dataset.csv')\n",
    "test=pd.read_csv('./test_dataset.csv')"
   ]
  },
  {
   "cell_type": "code",
   "execution_count": 39,
   "metadata": {},
   "outputs": [
    {
     "data": {
      "text/html": [
       "<div>\n",
       "<style scoped>\n",
       "    .dataframe tbody tr th:only-of-type {\n",
       "        vertical-align: middle;\n",
       "    }\n",
       "\n",
       "    .dataframe tbody tr th {\n",
       "        vertical-align: top;\n",
       "    }\n",
       "\n",
       "    .dataframe thead th {\n",
       "        text-align: right;\n",
       "    }\n",
       "</style>\n",
       "<table border=\"1\" class=\"dataframe\">\n",
       "  <thead>\n",
       "    <tr style=\"text-align: right;\">\n",
       "      <th></th>\n",
       "      <th>review</th>\n",
       "      <th>sentiment</th>\n",
       "      <th>dataset</th>\n",
       "    </tr>\n",
       "  </thead>\n",
       "  <tbody>\n",
       "    <tr>\n",
       "      <th>0</th>\n",
       "      <td>For a movie that gets no respect there sure ar...</td>\n",
       "      <td>1</td>\n",
       "      <td>train</td>\n",
       "    </tr>\n",
       "    <tr>\n",
       "      <th>1</th>\n",
       "      <td>Bizarre horror movie filled with famous faces ...</td>\n",
       "      <td>1</td>\n",
       "      <td>train</td>\n",
       "    </tr>\n",
       "    <tr>\n",
       "      <th>2</th>\n",
       "      <td>A solid, if unremarkable film. Matthau, as Ein...</td>\n",
       "      <td>1</td>\n",
       "      <td>train</td>\n",
       "    </tr>\n",
       "    <tr>\n",
       "      <th>3</th>\n",
       "      <td>It's a strange feeling to sit alone in a theat...</td>\n",
       "      <td>1</td>\n",
       "      <td>train</td>\n",
       "    </tr>\n",
       "  </tbody>\n",
       "</table>\n",
       "</div>"
      ],
      "text/plain": [
       "                                              review  sentiment dataset\n",
       "0  For a movie that gets no respect there sure ar...          1   train\n",
       "1  Bizarre horror movie filled with famous faces ...          1   train\n",
       "2  A solid, if unremarkable film. Matthau, as Ein...          1   train\n",
       "3  It's a strange feeling to sit alone in a theat...          1   train"
      ]
     },
     "execution_count": 39,
     "metadata": {},
     "output_type": "execute_result"
    }
   ],
   "source": [
    "train.head(4)"
   ]
  },
  {
   "cell_type": "code",
   "execution_count": 40,
   "metadata": {},
   "outputs": [
    {
     "data": {
      "text/html": [
       "<div>\n",
       "<style scoped>\n",
       "    .dataframe tbody tr th:only-of-type {\n",
       "        vertical-align: middle;\n",
       "    }\n",
       "\n",
       "    .dataframe tbody tr th {\n",
       "        vertical-align: top;\n",
       "    }\n",
       "\n",
       "    .dataframe thead th {\n",
       "        text-align: right;\n",
       "    }\n",
       "</style>\n",
       "<table border=\"1\" class=\"dataframe\">\n",
       "  <thead>\n",
       "    <tr style=\"text-align: right;\">\n",
       "      <th></th>\n",
       "      <th>review</th>\n",
       "      <th>sentiment</th>\n",
       "      <th>dataset</th>\n",
       "    </tr>\n",
       "  </thead>\n",
       "  <tbody>\n",
       "    <tr>\n",
       "      <th>0</th>\n",
       "      <td>Based on an actual story, John Boorman shows t...</td>\n",
       "      <td>1</td>\n",
       "      <td>test</td>\n",
       "    </tr>\n",
       "    <tr>\n",
       "      <th>1</th>\n",
       "      <td>This is a gem. As a Film Four production - the...</td>\n",
       "      <td>1</td>\n",
       "      <td>test</td>\n",
       "    </tr>\n",
       "    <tr>\n",
       "      <th>2</th>\n",
       "      <td>I really like this show. It has drama, romance...</td>\n",
       "      <td>1</td>\n",
       "      <td>test</td>\n",
       "    </tr>\n",
       "    <tr>\n",
       "      <th>3</th>\n",
       "      <td>This is the best 3-D experience Disney has at ...</td>\n",
       "      <td>1</td>\n",
       "      <td>test</td>\n",
       "    </tr>\n",
       "  </tbody>\n",
       "</table>\n",
       "</div>"
      ],
      "text/plain": [
       "                                              review  sentiment dataset\n",
       "0  Based on an actual story, John Boorman shows t...          1    test\n",
       "1  This is a gem. As a Film Four production - the...          1    test\n",
       "2  I really like this show. It has drama, romance...          1    test\n",
       "3  This is the best 3-D experience Disney has at ...          1    test"
      ]
     },
     "execution_count": 40,
     "metadata": {},
     "output_type": "execute_result"
    }
   ],
   "source": [
    "test.head(4)"
   ]
  },
  {
   "cell_type": "markdown",
   "metadata": {},
   "source": [
    "## 1.2 Preprocessing Data"
   ]
  },
  {
   "cell_type": "code",
   "execution_count": 41,
   "metadata": {},
   "outputs": [],
   "source": [
    "import re\n",
    "from bs4 import BeautifulSoup\n",
    "\n",
    "def review_to_wordlist(review):\n",
    "    \n",
    "    # removing HTML tags\n",
    "    review_text = BeautifulSoup(review, \"html.parser\").get_text()\n",
    "    # removing punctuations\n",
    "    review_text = re.sub(\"[^a-zA-Z]\",\" \", review_text)\n",
    "    # lowercase all words，and turn IMDB comments into word list.\n",
    "    words = review_text.lower().split()\n",
    "    # return words\n",
    "    return words"
   ]
  },
  {
   "cell_type": "code",
   "execution_count": 42,
   "metadata": {
    "scrolled": true
   },
   "outputs": [],
   "source": [
    "label = train['sentiment']\n",
    "train_data = []\n",
    "for i in range(len(train['review'])):\n",
    "    train_data.append(' '.join(review_to_wordlist(train['review'][i])))\n",
    "test_data = []\n",
    "for i in range(len(test['review'])):\n",
    "    test_data.append(' '.join(review_to_wordlist(test['review'][i])))\n"
   ]
  },
  {
   "cell_type": "code",
   "execution_count": 43,
   "metadata": {},
   "outputs": [
    {
     "name": "stdout",
     "output_type": "stream",
     "text": [
      "for a movie that gets no respect there sure are a lot of memorable quotes listed for this gem imagine a movie where joe piscopo is actually funny maureen stapleton is a scene stealer the moroni character is an absolute scream watch for alan the skipper hale jr as a police sgt \n",
      "\n",
      "based on an actual story john boorman shows the struggle of an american doctor whose husband and son were murdered and she was continually plagued with her loss a holiday to burma with her sister seemed like a good idea to get away from it all but when her passport was stolen in rangoon she could not leave the country with her sister and was forced to stay back until she could get i d papers from the american embassy to fill in a day before she could fly out she took a trip into the countryside with a tour guide i tried finding something in those stone statues but nothing stirred in me i was stone myself suddenly all hell broke loose and she was caught in a political revolt just when it looked like she had escaped and safely boarded a train she saw her tour guide get beaten and shot in a split second she decided to jump from the moving train and try to rescue him with no thought of herself continually her life was in danger here is a woman who demonstrated spontaneous selfless charity risking her life to save another patricia arquette is beautiful and not just to look at she has a beautiful heart this is an unforgettable story we are taught that suffering is the one promise that life always keeps\n"
     ]
    }
   ],
   "source": [
    "print(train_data[0], '\\n')\n",
    "print(test_data[0])"
   ]
  },
  {
   "cell_type": "markdown",
   "metadata": {},
   "source": [
    "## 1.3 Feature Extraction and Vectorization of text"
   ]
  },
  {
   "cell_type": "code",
   "execution_count": 44,
   "metadata": {},
   "outputs": [
    {
     "name": "stdout",
     "output_type": "stream",
     "text": [
      "Tf-idf processing finished.\n"
     ]
    }
   ],
   "source": [
    "from sklearn.feature_extraction.text import TfidfVectorizer as TFIDF\n",
    "\n",
    "tfidf = TFIDF(min_df=2, \n",
    "           max_features=None,\n",
    "           strip_accents='unicode',\n",
    "           analyzer='word',\n",
    "           token_pattern=r'\\w{1,}',\n",
    "           ngram_range=(1, 2),  # binary grammar model\n",
    "            #ngram_range=(1, 3),  # Ternary grammar model\n",
    "           use_idf=1,\n",
    "           smooth_idf=1,\n",
    "           sublinear_tf=1,\n",
    "           stop_words = 'english') # Remove English stop words\n",
    "\n",
    "# Combine training and test sets for TF-IDF vectorization\n",
    "data_all = train_data + test_data\n",
    "len_train = len(train_data)\n",
    "\n",
    "tfidf.fit(data_all)\n",
    "data_all = tfidf.transform(data_all)\n",
    "# Restore to training set and testing set sections\n",
    "train_x = data_all[:len_train]\n",
    "test_x = data_all[len_train:]\n",
    "print( 'Tf-idf processing finished.')"
   ]
  },
  {
   "cell_type": "markdown",
   "metadata": {},
   "source": [
    "# 2. Model Building\n",
    "## 2.1 Naive Bayes Classification"
   ]
  },
  {
   "cell_type": "code",
   "execution_count": 45,
   "metadata": {},
   "outputs": [
    {
     "name": "stdout",
     "output_type": "stream",
     "text": [
      "10-Fold cross validation:  0.9499691520000001\n"
     ]
    }
   ],
   "source": [
    "from sklearn.naive_bayes import MultinomialNB as MNB\n",
    "\n",
    "model_NB = MNB()\n",
    "model_NB.fit(train_x, label)\n",
    "MNB(alpha=1.0, class_prior=None, fit_prior=True)\n",
    "\n",
    "from sklearn.model_selection import cross_val_score\n",
    "import numpy as np\n",
    "\n",
    "print (\"10-Fold cross validation: \", np.mean(cross_val_score(model_NB, train_x, label, cv=10, scoring='roc_auc')))"
   ]
  },
  {
   "cell_type": "markdown",
   "metadata": {},
   "source": [
    "## 2.2 Logistic Regression"
   ]
  },
  {
   "cell_type": "code",
   "execution_count": 46,
   "metadata": {},
   "outputs": [
    {
     "name": "stdout",
     "output_type": "stream",
     "text": [
      "[0.96481306]\n",
      "[0.00511874]\n",
      "[{'C': 30}]\n"
     ]
    }
   ],
   "source": [
    "from sklearn.linear_model import LogisticRegression as LR\n",
    "from sklearn.model_selection import GridSearchCV\n",
    "import warnings\n",
    "\n",
    "warnings.filterwarnings(\"ignore\")\n",
    "\n",
    "# \n",
    "grid_values = {'C':[30]}  \n",
    "# \n",
    "model_LR = GridSearchCV(LR(penalty = 'l2', dual = True, random_state = 0), grid_values, scoring = 'roc_auc', cv = 20)\n",
    "model_LR.fit(train_x, label)\n",
    "# \n",
    "GridSearchCV(cv=20, estimator=LR(C=1.0, class_weight=None, dual=True,\n",
    "             fit_intercept=True, intercept_scaling=1, penalty='l2', random_state=0, tol=0.0001), iid=True, n_jobs=1,\n",
    "        param_grid={'C': [30]}, pre_dispatch='2*n_jobs', refit=True,\n",
    "        scoring='roc_auc', verbose=0)\n",
    "#\n",
    "print (model_LR.cv_results_['mean_test_score'])\n",
    "print (model_LR.cv_results_['std_test_score'])\n",
    "print (model_LR.cv_results_['params'])"
   ]
  },
  {
   "cell_type": "markdown",
   "metadata": {},
   "source": [
    "## 2.3 Random Forest"
   ]
  },
  {
   "cell_type": "code",
   "execution_count": 47,
   "metadata": {},
   "outputs": [
    {
     "data": {
      "text/plain": [
       "0.9499691520000001"
      ]
     },
     "execution_count": 47,
     "metadata": {},
     "output_type": "execute_result"
    }
   ],
   "source": [
    "from sklearn.ensemble import RandomForestClassifier\n",
    "# Create the model with 100 trees\n",
    "RF = RandomForestClassifier(n_estimators=100)\n",
    "# Fit on training data\n",
    "RF.fit(train_x, label)\n",
    "score=cross_val_score(model_NB, train_x, label, cv=10, scoring='roc_auc')\n",
    "np.mean(score)"
   ]
  },
  {
   "cell_type": "markdown",
   "metadata": {},
   "source": [
    "# 3. Outcome Evaluation"
   ]
  },
  {
   "cell_type": "code",
   "execution_count": 48,
   "metadata": {},
   "outputs": [
    {
     "data": {
      "text/html": [
       "<div>\n",
       "<style scoped>\n",
       "    .dataframe tbody tr th:only-of-type {\n",
       "        vertical-align: middle;\n",
       "    }\n",
       "\n",
       "    .dataframe tbody tr th {\n",
       "        vertical-align: top;\n",
       "    }\n",
       "\n",
       "    .dataframe thead th {\n",
       "        text-align: right;\n",
       "    }\n",
       "</style>\n",
       "<table border=\"1\" class=\"dataframe\">\n",
       "  <thead>\n",
       "    <tr style=\"text-align: right;\">\n",
       "      <th></th>\n",
       "      <th>review</th>\n",
       "      <th>sentiment</th>\n",
       "      <th>dataset</th>\n",
       "      <th>id</th>\n",
       "    </tr>\n",
       "  </thead>\n",
       "  <tbody>\n",
       "    <tr>\n",
       "      <th>0</th>\n",
       "      <td>Based on an actual story, John Boorman shows t...</td>\n",
       "      <td>1</td>\n",
       "      <td>test</td>\n",
       "      <td>0</td>\n",
       "    </tr>\n",
       "    <tr>\n",
       "      <th>1</th>\n",
       "      <td>This is a gem. As a Film Four production - the...</td>\n",
       "      <td>1</td>\n",
       "      <td>test</td>\n",
       "      <td>1</td>\n",
       "    </tr>\n",
       "    <tr>\n",
       "      <th>2</th>\n",
       "      <td>I really like this show. It has drama, romance...</td>\n",
       "      <td>1</td>\n",
       "      <td>test</td>\n",
       "      <td>2</td>\n",
       "    </tr>\n",
       "    <tr>\n",
       "      <th>3</th>\n",
       "      <td>This is the best 3-D experience Disney has at ...</td>\n",
       "      <td>1</td>\n",
       "      <td>test</td>\n",
       "      <td>3</td>\n",
       "    </tr>\n",
       "  </tbody>\n",
       "</table>\n",
       "</div>"
      ],
      "text/plain": [
       "                                              review  sentiment dataset  id\n",
       "0  Based on an actual story, John Boorman shows t...          1    test   0\n",
       "1  This is a gem. As a Film Four production - the...          1    test   1\n",
       "2  I really like this show. It has drama, romance...          1    test   2\n",
       "3  This is the best 3-D experience Disney has at ...          1    test   3"
      ]
     },
     "execution_count": 48,
     "metadata": {},
     "output_type": "execute_result"
    }
   ],
   "source": [
    "#add a column ID to testing dataset to facilitate backtesting of the modeling results.\n",
    "list_c=list(test.index)\n",
    "test['id']=list_c\n",
    "test.head(4)"
   ]
  },
  {
   "cell_type": "markdown",
   "metadata": {},
   "source": [
    "## 3.1 Naive Bayes Classification"
   ]
  },
  {
   "cell_type": "code",
   "execution_count": 49,
   "metadata": {},
   "outputs": [],
   "source": [
    "test_predicted = np.array(model_NB.predict(test_x))\n",
    "nb_output = []\n",
    "nb_output = pd.DataFrame(data=test_predicted, columns=['sentiment_predict'])\n",
    "nb_output['id'] = test['id']\n",
    "nb_output = nb_output[['id', 'sentiment_predict']]\n",
    "#merge the calssification result with the real sentiment classification. \n",
    "nb=pd.merge(test,nb_output)"
   ]
  },
  {
   "cell_type": "code",
   "execution_count": 50,
   "metadata": {},
   "outputs": [
    {
     "name": "stdout",
     "output_type": "stream",
     "text": [
      "correct= 21447\n",
      "wrong= 3553\n",
      "accurcy= 0.85788\n"
     ]
    }
   ],
   "source": [
    "#Calculate accurcy \n",
    "correct=0\n",
    "wrong=0\n",
    "for i in nb.index:\n",
    "    if nb.loc[i,'sentiment']==nb.loc[i,'sentiment_predict']:\n",
    "        correct=correct+1\n",
    "    else:\n",
    "        wrong=wrong+1\n",
    "print('correct=',correct)\n",
    "print('wrong=',wrong)\n",
    "print('accurcy=',correct/25000)"
   ]
  },
  {
   "cell_type": "markdown",
   "metadata": {},
   "source": [
    "## 3.2 Logistic Regression"
   ]
  },
  {
   "cell_type": "code",
   "execution_count": 51,
   "metadata": {},
   "outputs": [],
   "source": [
    "#Predict in testing data using our fitted Logistic Regression model\n",
    "test_predicted = np.array(model_LR.predict(test_x))\n",
    "lr_output = pd.DataFrame(data=test_predicted, columns=['sentiment_predict'])\n",
    "lr_output['id'] = test['id']\n",
    "lr_output = lr_output[['id', 'sentiment_predict']]\n",
    "#merge the calssification result with the real sentiment classification. \n",
    "lr=pd.merge(test,lr_output)"
   ]
  },
  {
   "cell_type": "code",
   "execution_count": 52,
   "metadata": {},
   "outputs": [
    {
     "name": "stdout",
     "output_type": "stream",
     "text": [
      "correct= 22262\n",
      "wrong= 2738\n",
      "accurcy= 0.89048\n"
     ]
    }
   ],
   "source": [
    "#Calculate accurcy\n",
    "correct1=0\n",
    "wrong1=0\n",
    "for i in lr.index:\n",
    "    if lr.loc[i,'sentiment']==lr.loc[i,'sentiment_predict']:\n",
    "        correct1=correct1+1\n",
    "    else:\n",
    "        wrong1=wrong1+1\n",
    "print('correct=',correct1)\n",
    "print('wrong=',wrong1)\n",
    "print('accurcy=',correct1/25000)"
   ]
  },
  {
   "cell_type": "markdown",
   "metadata": {},
   "source": [
    "## 3.3 Random Forest"
   ]
  },
  {
   "cell_type": "code",
   "execution_count": 53,
   "metadata": {},
   "outputs": [],
   "source": [
    "# Predict in testing data using our fitted Random Forest model above\n",
    "rf_predictions = RF.predict(test_x)\n",
    "\n",
    "rf_output = pd.DataFrame(data=rf_predictions, columns=['sentiment_predict'])\n",
    "rf_output['id'] = test['id']\n",
    "rf_output = rf_output[['id', 'sentiment_predict']]\n",
    "#merge the calssification result with the real sentiment classification. \n",
    "rf=pd.merge(test,rf_output)"
   ]
  },
  {
   "cell_type": "code",
   "execution_count": 55,
   "metadata": {},
   "outputs": [
    {
     "name": "stdout",
     "output_type": "stream",
     "text": [
      "correct= 21224\n",
      "wrong= 3776\n",
      "accurcy= 0.84896\n"
     ]
    }
   ],
   "source": [
    "#Calculate accurcy\n",
    "correct2=0\n",
    "wrong2=0\n",
    "for i in rf.index:\n",
    "    if rf.loc[i,'sentiment']==rf.loc[i,'sentiment_predict']:\n",
    "        correct2=correct2+1\n",
    "    else:\n",
    "        wrong2=wrong2+1\n",
    "print('correct=',correct2)\n",
    "print('wrong=',wrong2)\n",
    "print('accurcy=',correct2/25000)"
   ]
  },
  {
   "cell_type": "markdown",
   "metadata": {},
   "source": [
    "# 4. Conclusion"
   ]
  },
  {
   "cell_type": "code",
   "execution_count": 63,
   "metadata": {},
   "outputs": [
    {
     "data": {
      "text/html": [
       "<div>\n",
       "<style scoped>\n",
       "    .dataframe tbody tr th:only-of-type {\n",
       "        vertical-align: middle;\n",
       "    }\n",
       "\n",
       "    .dataframe tbody tr th {\n",
       "        vertical-align: top;\n",
       "    }\n",
       "\n",
       "    .dataframe thead th {\n",
       "        text-align: right;\n",
       "    }\n",
       "</style>\n",
       "<table border=\"1\" class=\"dataframe\">\n",
       "  <thead>\n",
       "    <tr style=\"text-align: right;\">\n",
       "      <th></th>\n",
       "      <th>model</th>\n",
       "      <th>AUC</th>\n",
       "      <th>Accuracy</th>\n",
       "    </tr>\n",
       "  </thead>\n",
       "  <tbody>\n",
       "    <tr>\n",
       "      <th>0</th>\n",
       "      <td>Naive Bayes Classification</td>\n",
       "      <td>0.949969</td>\n",
       "      <td>0.85788</td>\n",
       "    </tr>\n",
       "    <tr>\n",
       "      <th>1</th>\n",
       "      <td>Logistic Regression</td>\n",
       "      <td>0.964813</td>\n",
       "      <td>0.89048</td>\n",
       "    </tr>\n",
       "    <tr>\n",
       "      <th>2</th>\n",
       "      <td>Random Forest</td>\n",
       "      <td>0.949969</td>\n",
       "      <td>0.84896</td>\n",
       "    </tr>\n",
       "  </tbody>\n",
       "</table>\n",
       "</div>"
      ],
      "text/plain": [
       "                        model       AUC  Accuracy\n",
       "0  Naive Bayes Classification  0.949969   0.85788\n",
       "1         Logistic Regression  0.964813   0.89048\n",
       "2               Random Forest  0.949969   0.84896"
      ]
     },
     "execution_count": 63,
     "metadata": {},
     "output_type": "execute_result"
    }
   ],
   "source": [
    "conclusion=[]\n",
    "conclusion = pd.DataFrame({'model':['Naive Bayes Classification','Logistic Regression','Random Forest'],\n",
    "                      'AUC':[0.9499691520000001,0.96481306,0.9499691520000001],\n",
    "                      'Accuracy':[0.85788,0.89048,0.84896]})\n",
    "conclusion"
   ]
  }
 ],
 "metadata": {
  "kernelspec": {
   "display_name": "Python 3",
   "language": "python",
   "name": "python3"
  },
  "language_info": {
   "codemirror_mode": {
    "name": "ipython",
    "version": 3
   },
   "file_extension": ".py",
   "mimetype": "text/x-python",
   "name": "python",
   "nbconvert_exporter": "python",
   "pygments_lexer": "ipython3",
   "version": "3.7.3"
  }
 },
 "nbformat": 4,
 "nbformat_minor": 2
}
